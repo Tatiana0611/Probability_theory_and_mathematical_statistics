{
 "cells": [
  {
   "attachments": {},
   "cell_type": "markdown",
   "id": "1815a6f5",
   "metadata": {},
   "source": [
    "Корреляция – это математический показатель, по которому можно судить о наличии статистической взаимосвязи между двумя и более  случайными величинами.\n",
    "Коэффициент корреляции – это коэффициент, показывающий, на сколько велика линейная взаимосвязь\n",
    "Если коэффициент корреляции близок к 1, то между величинами наблюдается прямая связь: увеличение одной величины  сопровождается  увеличением другой, а уменьшение одной величины сопровождается уменьшением другой.\n",
    "Если же коэффициент корреляции близок к -1, то между величинами  есть обратная корреляционная связь: увеличение одной величины  сопровождается уменьшением другой и наоборот.\n",
    "Коэффициент корреляции, равный 0, говорит о том, что между величинами нет линейной связи."
   ]
  },
  {
   "cell_type": "code",
   "execution_count": 40,
   "id": "ab2cb7cf",
   "metadata": {},
   "outputs": [],
   "source": [
    "import numpy as np\n",
    "import matplotlib.pyplot as plt\n",
    "import scipy.stats as stats"
   ]
  },
  {
   "cell_type": "code",
   "execution_count": 5,
   "id": "be504e89",
   "metadata": {},
   "outputs": [
    {
     "data": {
      "text/plain": [
       "array([27, 37, 42, 48, 57, 56, 77, 80])"
      ]
     },
     "execution_count": 5,
     "metadata": {},
     "output_type": "execute_result"
    }
   ],
   "source": [
    "s = np.array([27, 37, 42, 48, 57, 56, 77, 80])\n",
    "s"
   ]
  },
  {
   "cell_type": "code",
   "execution_count": 6,
   "id": "104439d6",
   "metadata": {},
   "outputs": [
    {
     "data": {
      "text/plain": [
       "array([1.2, 1.6, 1.8, 1.8, 2.5, 2.6, 3. , 3.3])"
      ]
     },
     "execution_count": 6,
     "metadata": {},
     "output_type": "execute_result"
    }
   ],
   "source": [
    "p = np.array([1.2, 1.6, 1.8, 1.8, 2.5, 2.6, 3, 3.3])\n",
    "p"
   ]
  },
  {
   "cell_type": "code",
   "execution_count": 7,
   "id": "9dd35d03",
   "metadata": {},
   "outputs": [
    {
     "data": {
      "text/plain": [
       "array([[1.        , 0.97857682],\n",
       "       [0.97857682, 1.        ]])"
      ]
     },
     "execution_count": 7,
     "metadata": {},
     "output_type": "execute_result"
    }
   ],
   "source": [
    "np.corrcoef(p, s)"
   ]
  },
  {
   "cell_type": "code",
   "execution_count": 9,
   "id": "3a7ea3b8",
   "metadata": {},
   "outputs": [
    {
     "data": {
      "text/plain": [
       "array([ 0, -1,  1, -2,  2, -3,  3, -4,  4])"
      ]
     },
     "execution_count": 9,
     "metadata": {},
     "output_type": "execute_result"
    }
   ],
   "source": [
    "x = np.array([0, -1, 1, -2, 2, -3, 3, -4, 4])\n",
    "x"
   ]
  },
  {
   "cell_type": "code",
   "execution_count": 10,
   "id": "737eeae7",
   "metadata": {},
   "outputs": [
    {
     "data": {
      "text/plain": [
       "array([ 0,  1,  1,  4,  4,  9,  9, 16, 16])"
      ]
     },
     "execution_count": 10,
     "metadata": {},
     "output_type": "execute_result"
    }
   ],
   "source": [
    "y = x**2\n",
    "y"
   ]
  },
  {
   "cell_type": "code",
   "execution_count": 11,
   "id": "7ba686c4",
   "metadata": {},
   "outputs": [
    {
     "data": {
      "text/plain": [
       "array([[1., 0.],\n",
       "       [0., 1.]])"
      ]
     },
     "execution_count": 11,
     "metadata": {},
     "output_type": "execute_result"
    }
   ],
   "source": [
    "np.corrcoef(x, y)"
   ]
  },
  {
   "cell_type": "code",
   "execution_count": 16,
   "id": "a35f485d",
   "metadata": {},
   "outputs": [
    {
     "data": {
      "text/plain": [
       "<function matplotlib.pyplot.show(close=None, block=None)>"
      ]
     },
     "execution_count": 16,
     "metadata": {},
     "output_type": "execute_result"
    },
    {
     "data": {
      "image/png": "[encoded data removed]",
      "text/plain": [
       "<Figure size 432x288 with 1 Axes>"
      ]
     },
     "metadata": {
      "needs_background": "light"
     },
     "output_type": "display_data"
    }
   ],
   "source": [
    "plt.scatter(x, y)\n",
    "plt.show"
   ]
  },
  {
   "cell_type": "code",
   "execution_count": 22,
   "id": "1c214efa",
   "metadata": {},
   "outputs": [
    {
     "name": "stdout",
     "output_type": "stream",
     "text": [
      "[[ 1.         -0.41602515]\n",
      " [-0.41602515  1.        ]]\n"
     ]
    },
    {
     "data": {
      "text/plain": [
       "<matplotlib.collections.PathCollection at 0x259ca4df430>"
      ]
     },
     "execution_count": 22,
     "metadata": {},
     "output_type": "execute_result"
    },
    {
     "data": {
      "image/png": "[encoded data removed]",
      "text/plain": [
       "<Figure size 432x288 with 1 Axes>"
      ]
     },
     "metadata": {
      "needs_background": "light"
     },
     "output_type": "display_data"
    }
   ],
   "source": [
    "a = np.array([1, 2, 3, 4, 5])\n",
    "b = np.array([7, 4, 6, 9, 0])\n",
    "print(np.corrcoef(a, b))\n",
    "plt.scatter(a, b)"
   ]
  },
  {
   "cell_type": "code",
   "execution_count": 23,
   "id": "871be1dd",
   "metadata": {},
   "outputs": [
    {
     "name": "stdout",
     "output_type": "stream",
     "text": [
      "[[ 1.         -0.68080746]\n",
      " [-0.68080746  1.        ]]\n"
     ]
    },
    {
     "data": {
      "text/plain": [
       "<matplotlib.collections.PathCollection at 0x259ca4df370>"
      ]
     },
     "execution_count": 23,
     "metadata": {},
     "output_type": "execute_result"
    },
    {
     "data": {
      "image/png": "[encoded data removed]",
      "text/plain": [
       "<Figure size 432x288 with 1 Axes>"
      ]
     },
     "metadata": {
      "needs_background": "light"
     },
     "output_type": "display_data"
    }
   ],
   "source": [
    "a = np.array([1, 2, 3, 4, 5])\n",
    "b = np.array([11, 12, 0.8, 9, 0.4])\n",
    "print(np.corrcoef(a, b))\n",
    "plt.scatter(a, b)"
   ]
  },
  {
   "cell_type": "code",
   "execution_count": 25,
   "id": "41f64b59",
   "metadata": {},
   "outputs": [
    {
     "name": "stdout",
     "output_type": "stream",
     "text": [
      "[[1.         0.90419443]\n",
      " [0.90419443 1.        ]]\n"
     ]
    },
    {
     "data": {
      "text/plain": [
       "<matplotlib.collections.PathCollection at 0x259ca8211f0>"
      ]
     },
     "execution_count": 25,
     "metadata": {},
     "output_type": "execute_result"
    },
    {
     "data": {
      "image/png": "[encoded data removed]",
      "text/plain": [
       "<Figure size 432x288 with 1 Axes>"
      ]
     },
     "metadata": {
      "needs_background": "light"
     },
     "output_type": "display_data"
    }
   ],
   "source": [
    "a = np.array([1, 2, 3, 4, 5])\n",
    "b = np.array([0.5, 0.7, 0.9, 0.8, 1])\n",
    "print(np.corrcoef(a, b))\n",
    "plt.scatter(a, b)"
   ]
  },
  {
   "attachments": {},
   "cell_type": "markdown",
   "id": "82b0a1f9",
   "metadata": {},
   "source": [
    "Ковариация  - величина, определяющая зависимость двух случайных величин\n",
    "\n",
    "cov_xy = M(XY) − M(X) ∗ M(Y), \n",
    "где М – математическое ожидание\n",
    " \n",
    "Масштаб ковариации зависит от дисперсии. Поэтому по ковариации нельзя судить о силе взаимосвязи 2х случайных величин. Но ее можно нормировать.\n",
    "Зная ковариацию и среднее квадратичное отклонение каждого из двух признаков, можно вычислить коэффициент корреляции Пирсона:\n",
    "\n",
    "𝑟_𝑥𝑦 = 𝑐𝑜𝑣_𝑥𝑦 / 𝞼_𝑥 ∗ 𝞼_𝑦"
   ]
  },
  {
   "cell_type": "code",
   "execution_count": 31,
   "id": "51b05519",
   "metadata": {
    "scrolled": true
   },
   "outputs": [
    {
     "name": "stdout",
     "output_type": "stream",
     "text": [
      "11.662500000000023\n",
      "[[  0.53928571  13.32857143]\n",
      " [ 13.32857143 344.        ]]\n"
     ]
    }
   ],
   "source": [
    "p = np.array([1.2, 1.6, 1.8, 1.8, 2.5, 2.6, 3., 3.3])\n",
    "s = np.array([27, 37, 42, 48, 57, 56, 77, 80])\n",
    "cov = np.mean(p*s) - np.mean(p)*np.mean(s)\n",
    "print(cov)\n",
    "print(np.cov(p, s))"
   ]
  },
  {
   "cell_type": "code",
   "execution_count": 35,
   "id": "fd909705",
   "metadata": {},
   "outputs": [
    {
     "data": {
      "text/plain": [
       "array([[1.        , 0.97857682],\n",
       "       [0.97857682, 1.        ]])"
      ]
     },
     "execution_count": 35,
     "metadata": {},
     "output_type": "execute_result"
    }
   ],
   "source": [
    "np.corrcoef(p, s) # коэффициент корреляции Пирсона"
   ]
  },
  {
   "cell_type": "code",
   "execution_count": 37,
   "id": "6b588525",
   "metadata": {},
   "outputs": [
    {
     "name": "stdout",
     "output_type": "stream",
     "text": [
      "[[  0.53928571  13.32857143]\n",
      " [ 13.32857143 344.        ]]\n",
      "0.7343607521414215\n",
      "18.547236990991408\n",
      "0.9785768206878758\n"
     ]
    }
   ],
   "source": [
    "print(np.cov(p, s, ddof=1)) # Несмещенная ковариация\n",
    "print(np.std(p, ddof = 1)) # Несмещенное стандартное отклонение p\n",
    "print(np.std(s, ddof = 1)) # Несмещенное стандартное отклонение s\n",
    "print(13.32857143 / (0.7343607521414215*18.547236990991408)) # коэффициент корреляции Пирсона"
   ]
  },
  {
   "cell_type": "code",
   "execution_count": 39,
   "id": "1e1fc69e",
   "metadata": {},
   "outputs": [
    {
     "name": "stdout",
     "output_type": "stream",
     "text": [
      "[[  0.471875  11.6625  ]\n",
      " [ 11.6625   301.      ]]\n",
      "0.6869315832017042\n",
      "17.349351572897472\n",
      "0.9785768205829909\n"
     ]
    }
   ],
   "source": [
    "print(np.cov(p, s, ddof=0)) # Смещенная ковариация\n",
    "print(np.std(p, ddof = 0)) # Смещенное стандартное отклонение p\n",
    "print(np.std(s, ddof = 0)) # Смещенное стандартное отклонение s\n",
    "print(11.6625 / (0.6869315832017042*17.349351572897472)) # коэффициент корреляции Пирсона"
   ]
  },
  {
   "attachments": {},
   "cell_type": "markdown",
   "id": "70afae35",
   "metadata": {},
   "source": [
    "Коэффициент корреляции Спирмена – это ранговый коэффициент корреляции, также показывает тесноту линейной связи, но в отличии от коэффициента корреляции Пирсона не требует нормальности распределений случайных величин и применяется для порядковых и количественных данных."
   ]
  },
  {
   "cell_type": "code",
   "execution_count": 45,
   "id": "0fded45b",
   "metadata": {},
   "outputs": [
    {
     "name": "stdout",
     "output_type": "stream",
     "text": [
      "SignificanceResult(statistic=0.9700772721497398, pvalue=6.548558831120599e-05)\n",
      "[[1.         0.97007727]\n",
      " [0.97007727 1.        ]]\n"
     ]
    }
   ],
   "source": [
    "p = np.array([1.2, 1.6, 1.8, 1.8, 2.5, 2.6, 3., 3.3])\n",
    "s = np.array([27, 37, 42, 48, 57, 56, 77, 80])\n",
    "print(stats.spearmanr(p, s))\n",
    "p2 = np.array([1, 2, 3.5, 3.5, 5, 6, 7, 8]) # ранги элементов p\n",
    "s2 = np.array([1, 2, 3, 4, 6, 5, 7, 8]) # ранги элементов s\n",
    "print(np.corrcoef(s2, p2))"
   ]
  },
  {
   "cell_type": "markdown",
   "id": "cffd4e04",
   "metadata": {},
   "source": [
    "Проведено 4 эксперимента. Для каждого построить график и посчитать коэффициенты \n",
    "корреляции Пирсона."
   ]
  },
  {
   "cell_type": "code",
   "execution_count": 46,
   "id": "30bc1b8b",
   "metadata": {},
   "outputs": [
    {
     "name": "stdout",
     "output_type": "stream",
     "text": [
      "[[1.         0.81642052]\n",
      " [0.81642052 1.        ]]\n"
     ]
    },
    {
     "data": {
      "text/plain": [
       "<matplotlib.collections.PathCollection at 0x259d24cef10>"
      ]
     },
     "execution_count": 46,
     "metadata": {},
     "output_type": "execute_result"
    },
    {
     "data": {
      "image/png": "[encoded data removed]",
      "text/plain": [
       "<Figure size 432x288 with 1 Axes>"
      ]
     },
     "metadata": {
      "needs_background": "light"
     },
     "output_type": "display_data"
    }
   ],
   "source": [
    "x = np.array([10,8, 13, 9,11,14, 6,4,12, 7,5])\n",
    "y = np.array([8.04, 6.95, 7.58, 8.81, 8.33, 9.96, 7.24, 4.26, 10.84, 4.82, 5.68 ])\n",
    "print(np.corrcoef(x, y))\n",
    "plt.scatter(x, y)"
   ]
  },
  {
   "cell_type": "code",
   "execution_count": 50,
   "id": "6f27942c",
   "metadata": {},
   "outputs": [
    {
     "name": "stdout",
     "output_type": "stream",
     "text": [
      "[[1.         0.81623651]\n",
      " [0.81623651 1.        ]]\n"
     ]
    },
    {
     "data": {
      "text/plain": [
       "<matplotlib.collections.PathCollection at 0x259d25f1760>"
      ]
     },
     "execution_count": 50,
     "metadata": {},
     "output_type": "execute_result"
    },
    {
     "data": {
      "image/png": "[encoded data removed]",
      "text/plain": [
       "<Figure size 432x288 with 1 Axes>"
      ]
     },
     "metadata": {
      "needs_background": "light"
     },
     "output_type": "display_data"
    }
   ],
   "source": [
    "x = np.array([ 10,8, 13, 9,11,14, 6,4,12, 7,5 ])\n",
    "y2 = np.array([ 9.14, 8.14, 8.74,8.77, 9.26, 8.10, 6.13, 3.10, 9.13, 7.26, 4.74])\n",
    "print(np.corrcoef(x, y2))\n",
    "plt.scatter(x, y2)"
   ]
  },
  {
   "cell_type": "code",
   "execution_count": 51,
   "id": "dc5d66d5",
   "metadata": {},
   "outputs": [
    {
     "name": "stdout",
     "output_type": "stream",
     "text": [
      "[[1.         0.81628674]\n",
      " [0.81628674 1.        ]]\n"
     ]
    },
    {
     "data": {
      "text/plain": [
       "<matplotlib.collections.PathCollection at 0x259d2670610>"
      ]
     },
     "execution_count": 51,
     "metadata": {},
     "output_type": "execute_result"
    },
    {
     "data": {
      "image/png": "[encoded data removed]",
      "text/plain": [
       "<Figure size 432x288 with 1 Axes>"
      ]
     },
     "metadata": {
      "needs_background": "light"
     },
     "output_type": "display_data"
    }
   ],
   "source": [
    "x = np.array([10,8, 13, 9,11,14, 6,4,12, 7,5 ])\n",
    "y3 = np.array([7.46, 6.77, 12.74, 7.11, 7.81, 8.84, 6.08, 5.39, 8.15, 6.42, 5.73])\n",
    "print(np.corrcoef(x, y3))\n",
    "plt.scatter(x, y3)"
   ]
  },
  {
   "cell_type": "code",
   "execution_count": 52,
   "id": "b2e5a1f1",
   "metadata": {},
   "outputs": [
    {
     "name": "stdout",
     "output_type": "stream",
     "text": [
      "[[1.         0.81652144]\n",
      " [0.81652144 1.        ]]\n"
     ]
    },
    {
     "data": {
      "text/plain": [
       "<matplotlib.collections.PathCollection at 0x259d2591af0>"
      ]
     },
     "execution_count": 52,
     "metadata": {},
     "output_type": "execute_result"
    },
    {
     "data": {
      "image/png": "[encoded data removed]",
      "text/plain": [
       "<Figure size 432x288 with 1 Axes>"
      ]
     },
     "metadata": {
      "needs_background": "light"
     },
     "output_type": "display_data"
    }
   ],
   "source": [
    "x4 = np.array([8, 8, 8, 8, 8, 8, 8, 19, 8, 8, 8])\n",
    "y4 = np.array([6.58, 5.76, 7.71, 8.84, 8.47, 7.04, 5.25,12.5, 5.56, 7.91, 6.89])\n",
    "print(np.corrcoef(x4, y4))\n",
    "plt.scatter(x4, y4)"
   ]
  },
  {
   "cell_type": "code",
   "execution_count": 55,
   "id": "abdd773e",
   "metadata": {},
   "outputs": [
    {
     "name": "stdout",
     "output_type": "stream",
     "text": [
      "[[1.         0.02245218]\n",
      " [0.02245218 1.        ]]\n"
     ]
    },
    {
     "data": {
      "text/plain": [
       "<matplotlib.collections.PathCollection at 0x259d3862400>"
      ]
     },
     "execution_count": 55,
     "metadata": {},
     "output_type": "execute_result"
    },
    {
     "data": {
      "image/png": "[encoded data removed]",
      "text/plain": [
       "<Figure size 432x288 with 1 Axes>"
      ]
     },
     "metadata": {
      "needs_background": "light"
     },
     "output_type": "display_data"
    }
   ],
   "source": [
    "x0 = np.array([ 10, 8, 13, 9, 11, 14, 6, 4, 12, 7,5, 15, 16, 18 ])\n",
    "y0 = np.array([ 9.14, 8.14, 8.74,8.77, 9.26, 8.10, 6.13, 3.10, 9.13, 7.26, 4.74, 6.5, 5, 2.9])\n",
    "print(np.corrcoef(x0, y0))\n",
    "plt.scatter(x0, y0)\n",
    "# plt.scatter(x, y)\n",
    "# plt.title(np.corrcoef(x0, y0))\n",
    "# plt.xlabel(x0)\n",
    "# plt.ylabel(y0)\n",
    "# plt.show()"
   ]
  },
  {
   "cell_type": "markdown",
   "id": "5dcb34fe",
   "metadata": {},
   "source": [
    "Провести двусторонний тест и ответить на вопрос, есть ли статистически значимые \n",
    "различия между средними 2х нормально распределенных генеральных совокупностей, \n",
    "представленных следующими независимыми выборками:\n",
    " a = np.array([12, 10, 11, 19, 13, 11, 17, 15, 19, 14, 21, 18, 21, 11, 17, 14, 15, 17, 20, 19])\n",
    " b = np.array([11, 13, 18, 15, 17, 18, 10, 21, 26, 15, 11, 12, 15, 17, 10, 18, 18, 12,21, 20])\n",
    "Уровень статистической значимости принять за 5%\n",
    "1. Используйте функцию в Python:\n",
    "2. Имея p-value из функции рассчитать наблюдаемое значение критерия."
   ]
  },
  {
   "cell_type": "code",
   "execution_count": 66,
   "id": "19e1b193",
   "metadata": {},
   "outputs": [
    {
     "name": "stdout",
     "output_type": "stream",
     "text": [
      "Ttest_indResult(statistic=-0.1599663264228627, pvalue=0.8737549039369696)\n",
      "Ttest_indResult(statistic=-0.1599663264228627, pvalue=0.8737549039369696)\n",
      "2.024394164575136\n",
      "0.15965303892511062\n",
      "[[1.         0.01847613]\n",
      " [0.01847613 1.        ]]\n",
      "<matplotlib.collections.PathCollection object at 0x00000259D3985640>\n",
      "Ttest_indResult(statistic=-0.1599663264228627, pvalue=0.5631225480315152)\n"
     ]
    },
    {
     "data": {
      "image/png": "[encoded data removed]",
      "text/plain": [
       "<Figure size 432x288 with 1 Axes>"
      ]
     },
     "metadata": {
      "needs_background": "light"
     },
     "output_type": "display_data"
    }
   ],
   "source": [
    "a = np.array([12, 10, 11, 19, 13, 11, 17, 15, 19, 14, 21, 18, 21, 11, 17, 14, 15, 17, 20, 19])\n",
    "b = np.array([11, 13, 18, 15, 17, 18, 10, 21, 26, 15, 11, 12, 15, 17, 10, 18, 18, 12, 21, 20])\n",
    "print(stats.ttest_ind(a, b)) # двусторонний тест\n",
    "print(stats.ttest_ind(a, b, equal_var=True))\n",
    "print(stats.t.ppf(0.975, len(a)+len(b)-2)) #tт для alfa/2\n",
    "print(stats.t.ppf((1-0.874/2), len(a)+len(b)-2)) #tн для pvalue/2\n",
    "print(np.corrcoef(a, b))\n",
    "plt.scatter(a, b)"
   ]
  },
  {
   "cell_type": "code",
   "execution_count": 67,
   "id": "d9a63184",
   "metadata": {},
   "outputs": [
    {
     "name": "stdout",
     "output_type": "stream",
     "text": [
      "Ttest_indResult(statistic=-0.1599663264228627, pvalue=0.5631225480315152)\n"
     ]
    }
   ],
   "source": [
    "print(stats.ttest_ind(a, b, alternative='greater', equal_var=True)) # одностороний тест"
   ]
  },
  {
   "cell_type": "code",
   "execution_count": 68,
   "id": "09851ddc",
   "metadata": {},
   "outputs": [
    {
     "name": "stdout",
     "output_type": "stream",
     "text": [
      "Ttest_indResult(statistic=-0.1599663264228627, pvalue=0.4368774519684848)\n"
     ]
    }
   ],
   "source": [
    "print(stats.ttest_ind(a, b, alternative='less', equal_var=True)) # одностороний тест"
   ]
  },
  {
   "cell_type": "markdown",
   "id": "93f16c87",
   "metadata": {},
   "source": [
    "Спортсмен стреляет по мишени, разделенной на три сектора. Вероятность попадания в 1й \n",
    "сектор = 0.4, во второй = 0.3. Какова вероятность попадания в 1 или 2й сектор? "
   ]
  },
  {
   "cell_type": "code",
   "execution_count": 69,
   "id": "b85776c7",
   "metadata": {},
   "outputs": [
    {
     "name": "stdout",
     "output_type": "stream",
     "text": [
      "0.7\n"
     ]
    }
   ],
   "source": [
    "print(0.4+0.3)"
   ]
  },
  {
   "cell_type": "markdown",
   "id": "cd77d163",
   "metadata": {},
   "source": [
    "В группе 21 студент: 5 отличников, 10 хорошистов, 6 слабых. На предстоящем \n",
    "экзамене отлично могут получить только отличники, хорошисты с равной \n",
    "вероятностью могут получить хорошо и отлично, слабые –с одинаоквой \n",
    "вероятностью могут получить хорошо, удовлетворительно и неуд. На экзамен \n",
    "вызывается наугад 1 студент. Какова вероятность, что он получит хорошо или \n",
    "отлично "
   ]
  },
  {
   "cell_type": "code",
   "execution_count": 74,
   "id": "7eceb29b",
   "metadata": {},
   "outputs": [
    {
     "name": "stdout",
     "output_type": "stream",
     "text": [
      "0.8095238095238094\n"
     ]
    }
   ],
   "source": [
    "print(5/21*1 + 10/21*1 + 6/21*1/3)"
   ]
  },
  {
   "cell_type": "markdown",
   "id": "4455700c",
   "metadata": {},
   "source": [
    "Некоторое изделие выпускается 2мя заводами. При этом объем продукции 2го завода в 3 раза \n",
    "превосходит объем продукции 1го. Доля брака у 1го -2%, у 2го -1%. Изделие выпущено \n",
    "заводами за одинаковый промежуток времени. Изделия перемешали и отправили в продажу. \n",
    "Какова вероятность, что приобретенное изделие со 2го завода, если оно бракованное\n",
    "А - изделие бракованное\n",
    "B1 - взяли изделие первого завода P(B1) = 0,25\n",
    "B2 - взяли изделие первого второго завода P(B2) = 0,75 \n",
    "\n",
    "P(A) = P(B1)*P(A|B1) + P(B2)*P(A|B2)\n",
    "P(B1|A) = P(A|B1) * P(B1) / P(A)\n",
    "P(B2|A) = P(A|B2) * P(B2) / P(A)"
   ]
  },
  {
   "cell_type": "code",
   "execution_count": 82,
   "id": "d1bc10e3",
   "metadata": {},
   "outputs": [
    {
     "name": "stdout",
     "output_type": "stream",
     "text": [
      "0.0125\n",
      "0.6\n"
     ]
    }
   ],
   "source": [
    "P_A = 0.02*0.25 + 0.01*0.75\n",
    "print(P_A)\n",
    "P = 0.01*0.75 / 0.0125\n",
    "print(P)"
   ]
  },
  {
   "cell_type": "code",
   "execution_count": null,
   "id": "edd4def1",
   "metadata": {},
   "outputs": [],
   "source": []
  }
 ],
 "metadata": {
  "kernelspec": {
   "display_name": "Python 3",
   "language": "python",
   "name": "python3"
  },
  "language_info": {
   "codemirror_mode": {
    "name": "ipython",
    "version": 3
   },
   "file_extension": ".py",
   "mimetype": "text/x-python",
   "name": "python",
   "nbconvert_exporter": "python",
   "pygments_lexer": "ipython3",
   "version": "3.9.13"
  },
  "vscode": {
   "interpreter": {
    "hash": "4fbfea1dd5a17f80dff8df3ba641602c59e31ce1a55b82aea18e6894ff3c71a7"
   }
  }
 },
 "nbformat": 4,
 "nbformat_minor": 5
}
